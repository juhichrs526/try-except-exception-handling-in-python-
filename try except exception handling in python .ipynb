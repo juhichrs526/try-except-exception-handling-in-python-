{
 "cells": [
  {
   "cell_type": "code",
   "execution_count": 1,
   "id": "c983fc11",
   "metadata": {},
   "outputs": [
    {
     "name": "stdout",
     "output_type": "stream",
     "text": [
      "5\n",
      "9\n",
      "14\n"
     ]
    }
   ],
   "source": [
    "num1=int(input())\n",
    "num2=int(input())\n",
    "print(num1+num2)"
   ]
  },
  {
   "cell_type": "code",
   "execution_count": 2,
   "id": "d1bee2df",
   "metadata": {},
   "outputs": [
    {
     "name": "stdout",
     "output_type": "stream",
     "text": [
      "enter a num1\n",
      "8\n",
      "enter a num2\n",
      "7\n",
      "15\n"
     ]
    }
   ],
   "source": [
    "print(\"enter a num1\")\n",
    "num1=int(input())\n",
    "print(\"enter a num2\")\n",
    "num2=int(input())\n",
    "print(num1+num2)"
   ]
  },
  {
   "cell_type": "code",
   "execution_count": 3,
   "id": "c567fa65",
   "metadata": {},
   "outputs": [
    {
     "name": "stdout",
     "output_type": "stream",
     "text": [
      "enter a num1\n",
      "5\n",
      "enter a num2\n",
      "10\n",
      "the sum of these two number is 15\n"
     ]
    }
   ],
   "source": [
    "print(\"enter a num1\")\n",
    "num1=int(input())\n",
    "print(\"enter a num2\")\n",
    "num2=int(input())\n",
    "print(\"the sum of these two number is\",num1+num2)"
   ]
  },
  {
   "cell_type": "code",
   "execution_count": 4,
   "id": "0172d2db",
   "metadata": {},
   "outputs": [
    {
     "name": "stdout",
     "output_type": "stream",
     "text": [
      "enter a num1\n",
      "5\n",
      "enter a num2\n",
      "9\n",
      "the sum of these two number is 14\n",
      "this line is very important\n"
     ]
    }
   ],
   "source": [
    "print(\"enter a num1\")\n",
    "num1=int(input())\n",
    "print(\"enter a num2\")\n",
    "num2=int(input())\n",
    "try:\n",
    "    print(\"the sum of these two number is\",num1+num2)\n",
    "except exception as e:\n",
    "    print(e)\n",
    "    \n",
    "print(\"this line is very important\")"
   ]
  },
  {
   "cell_type": "code",
   "execution_count": null,
   "id": "6364bee2",
   "metadata": {},
   "outputs": [],
   "source": []
  }
 ],
 "metadata": {
  "kernelspec": {
   "display_name": "Python 3",
   "language": "python",
   "name": "python3"
  },
  "language_info": {
   "codemirror_mode": {
    "name": "ipython",
    "version": 3
   },
   "file_extension": ".py",
   "mimetype": "text/x-python",
   "name": "python",
   "nbconvert_exporter": "python",
   "pygments_lexer": "ipython3",
   "version": "3.8.8"
  }
 },
 "nbformat": 4,
 "nbformat_minor": 5
}
